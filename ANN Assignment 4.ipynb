{
 "cells": [
  {
   "cell_type": "code",
   "execution_count": null,
   "metadata": {},
   "outputs": [],
   "source": [
    "# Assignment 4: Write a program to demonstrate ART.\n",
    "# Name: Adwait Nitin Deshpande\n",
    "# Class: TE-AIML\n",
    "# Roll No: 33514"
   ]
  },
  {
   "cell_type": "code",
   "execution_count": 1,
   "metadata": {
    "colab": {
     "base_uri": "https://localhost:8080/"
    },
    "executionInfo": {
     "elapsed": 4,
     "status": "ok",
     "timestamp": 1678453299598,
     "user": {
      "displayName": "Adwait Deshpande",
      "userId": "01421131392947329220"
     },
     "user_tz": -330
    },
    "id": "2IsOmXyQnDK8",
    "outputId": "b0210a6d-4053-4aa2-ab15-4951ae086eb1"
   },
   "outputs": [
    {
     "name": "stdout",
     "output_type": "stream",
     "text": [
      "(0, 0.5)\n",
      "(0, 0.5)\n"
     ]
    }
   ],
   "source": [
    "import numpy as np\n",
    "\n",
    "class ART1:\n",
    "    def __init__(self, num_input_nodes, num_categories, vigilance):\n",
    "        self.num_input_nodes = num_input_nodes\n",
    "        self.num_categories = num_categories\n",
    "        self.vigilance = vigilance\n",
    "        self.weights = np.ones((num_categories, num_input_nodes))\n",
    "\n",
    "    def learn(self, input_pattern):\n",
    "        while True:\n",
    "            # calculate the response of each category to the input pattern\n",
    "            response = np.dot(self.weights, input_pattern)\n",
    "            # calculate the sum of the weights of each category\n",
    "            weights_sum = np.sum(self.weights, axis=1)\n",
    "            # calculate the activation of each category\n",
    "            activation = response / weights_sum\n",
    "            # find the category with the highest activation\n",
    "            category = np.argmax(activation)\n",
    "            # calculate the match between the input pattern and the category\n",
    "            match = np.sum(np.minimum(self.weights[category], input_pattern))\n",
    "            # calculate the normalized match\n",
    "            normalized_match = match / np.sum(input_pattern)\n",
    "            # if the normalized match is greater than the vigilance, the input pattern\n",
    "            # is assigned to the category, and the weights are updated\n",
    "            if normalized_match > self.vigilance:\n",
    "                self.weights[category] = np.minimum(self.weights[category], input_pattern)\n",
    "                break\n",
    "            # if the normalized match is less than or equal to the vigilance, a new category\n",
    "            # is created with the input pattern as its weights\n",
    "            else:\n",
    "                self.weights = np.vstack([self.weights, input_pattern])\n",
    "                self.num_categories += 1\n",
    "\n",
    "    def classify(self, input_pattern):\n",
    "        # calculate the response of each category to the input pattern\n",
    "        response = np.dot(self.weights, input_pattern)\n",
    "        # calculate the sum of the weights of each category\n",
    "        weights_sum = np.sum(self.weights, axis=1)\n",
    "        # calculate the activation of each category\n",
    "        activation = response / weights_sum\n",
    "        # find the category with the highest activation\n",
    "        category = np.argmax(activation)\n",
    "        # return the category index and its activation\n",
    "        return category, activation[category]\n",
    "\n",
    "# create an ART1 network with 4 input nodes, 3 categories, and vigilance of 0.7\n",
    "network = ART1(4, 3, 0.7)\n",
    "\n",
    "# learn some input patterns\n",
    "network.learn(np.array([1, 0, 1, 0]))\n",
    "network.learn(np.array([0, 1, 0, 1]))\n",
    "network.learn(np.array([1, 1, 0, 0]))\n",
    "\n",
    "# classify some input patterns\n",
    "print(network.classify(np.array([1, 0, 0, 0])))\n",
    "print(network.classify(np.array([0, 1, 1, 0])))\n"
   ]
  },
  {
   "cell_type": "code",
   "execution_count": null,
   "metadata": {
    "id": "VowoKLdcnHMD"
   },
   "outputs": [],
   "source": [
    "# The code starts with importing the required numpy library for numerical computations.\n",
    "\n",
    "# The ART1 class is defined, which takes in three parameters: num_input_nodes, num_categories, and vigilance. \n",
    "# These parameters define the structure and behavior of the network.\n",
    "\n",
    "# The constructor of the ART1 class initializes the network weights as an array of ones with dimensions \n",
    "# (num_categories, num_input_nodes). The weights matrix represents the category nodes of the network.\n",
    "\n",
    "# The learn method of the ART1 class is defined, which takes in an input pattern as an argument. \n",
    "# The method updates the network weights by either assigning the input pattern to an existing category or creating a new category if no existing category matches the input pattern.\n",
    "\n",
    "# The learn method iterates through the categories and calculates the response of each category to the input pattern using \n",
    "# the dot product of the category weights and the input pattern.\n",
    "\n",
    "# The method then calculates the sum of the weights of each category and uses it to calculate the activation of each category. \n",
    "# The activation is the ratio of the response of each category to the sum of the weights of that category.\n",
    "\n",
    "# The method then finds the category with the highest activation and calculates the match between the input pattern and \n",
    "# the category. The match is the minimum value between the weights of the category and the input pattern, \n",
    "# summed over all input nodes.\n",
    "\n",
    "# The method then calculates the normalized match, which is the match divided by the sum of the input pattern.\n",
    "\n",
    "# If the normalized match is greater than the vigilance, the input pattern is assigned to the category with the \n",
    "# highest activation, and the weights of that category are updated using the minimum function.\n",
    "\n",
    "# If the normalized match is less than or equal to the vigilance, a new category is created with the input pattern as its \n",
    "# weights, and the weights matrix is updated by vertically stacking the new category to the existing matrix.\n",
    "\n",
    "# The classify method of the ART1 class is defined, which takes in an input pattern as an argument. \n",
    "# The method calculates the response, activation, and category with the highest activation in the same way as the learn method, \n",
    "# and returns the index of the category and its activation.\n",
    "\n",
    "# The code then creates an ART1 network with 4 input nodes, 3 categories, and a vigilance of 0.7.\n",
    "\n",
    "# The code then learns some input patterns using the learn method of the ART1 network.\n",
    "\n",
    "# Finally, the code classifies some input patterns using the classify method of the ART1 network and prints the index \n",
    "# of the category and its activation for each input pattern."
   ]
  }
 ],
 "metadata": {
  "colab": {
   "authorship_tag": "ABX9TyOHKJaSZ0oxiMI7gwA3fgFu",
   "provenance": []
  },
  "kernelspec": {
   "display_name": "Python 3 (ipykernel)",
   "language": "python",
   "name": "python3"
  },
  "language_info": {
   "codemirror_mode": {
    "name": "ipython",
    "version": 3
   },
   "file_extension": ".py",
   "mimetype": "text/x-python",
   "name": "python",
   "nbconvert_exporter": "python",
   "pygments_lexer": "ipython3",
   "version": "3.8.10"
  }
 },
 "nbformat": 4,
 "nbformat_minor": 1
}
