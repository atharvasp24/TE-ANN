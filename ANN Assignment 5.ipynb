{
 "cells": [
  {
   "cell_type": "code",
   "execution_count": null,
   "metadata": {},
   "outputs": [],
   "source": [
    "# Assignment 5: Write a program to demonstrate the perceptron learning law with its decision region\n",
    "# using python. Give the output in graphical form\n",
    "# Name: Adwait Nitin Deshpande\n",
    "# Class: TE-AIML\n",
    "# Roll No: 33514"
   ]
  },
  {
   "cell_type": "code",
   "execution_count": 1,
   "metadata": {
    "colab": {
     "base_uri": "https://localhost:8080/",
     "height": 295
    },
    "executionInfo": {
     "elapsed": 659,
     "status": "ok",
     "timestamp": 1678453422046,
     "user": {
      "displayName": "Adwait Deshpande",
      "userId": "01421131392947329220"
     },
     "user_tz": -330
    },
    "id": "WtImeeOMnlDa",
    "outputId": "9b5ed0be-23f4-4cb8-f7cc-9a5e4a118293"
   },
   "outputs": [
    {
     "data": {
      "image/png": "[encoded data removed]",
      "text/plain": [
       "<Figure size 432x288 with 1 Axes>"
      ]
     },
     "metadata": {
      "needs_background": "light"
     },
     "output_type": "display_data"
    }
   ],
   "source": [
    "import numpy as np\n",
    "import matplotlib.pyplot as plt\n",
    "\n",
    "class Perceptron:\n",
    "    def __init__(self, num_inputs):\n",
    "        self.weights = np.zeros(num_inputs)\n",
    "        self.bias = 0\n",
    "\n",
    "    def predict(self, input):\n",
    "        activation = np.dot(self.weights, input) + self.bias\n",
    "        return 1 if activation >= 0 else -1\n",
    "\n",
    "    def train(self, inputs, labels, learning_rate=0.1, num_epochs=10):\n",
    "        for epoch in range(num_epochs):\n",
    "            for input, label in zip(inputs, labels):\n",
    "                prediction = self.predict(input)\n",
    "                if prediction != label:\n",
    "                    self.weights += learning_rate * label * input\n",
    "                    self.bias += learning_rate * label\n",
    "\n",
    "    def plot_decision_region(self, inputs, labels):\n",
    "        x_min, x_max = inputs[:, 0].min() - 0.5, inputs[:, 0].max() + 0.5\n",
    "        y_min, y_max = inputs[:, 1].min() - 0.5, inputs[:, 1].max() + 0.5\n",
    "        xx, yy = np.meshgrid(np.arange(x_min, x_max, 0.02),\n",
    "                             np.arange(y_min, y_max, 0.02))\n",
    "        Z = np.array([self.predict([x1, x2]) for x1, x2 in np.c_[xx.ravel(), yy.ravel()]])\n",
    "        Z = Z.reshape(xx.shape)\n",
    "        plt.contourf(xx, yy, Z, cmap=plt.cm.RdBu, alpha=0.6)\n",
    "        plt.scatter(inputs[:, 0], inputs[:, 1], c=labels, cmap=plt.cm.RdBu, edgecolors='black')\n",
    "\n",
    "# create some example data\n",
    "inputs = np.array([[1, 2], [2, 1], [-1, -2], [-2, -1]])\n",
    "labels = np.array([1, 1, -1, -1])\n",
    "\n",
    "# create a perceptron with 2 input nodes\n",
    "perceptron = Perceptron(2)\n",
    "\n",
    "# train the perceptron on the data\n",
    "perceptron.train(inputs, labels)\n",
    "\n",
    "# plot the decision region of the perceptron\n",
    "perceptron.plot_decision_region(inputs, labels)\n",
    "plt.title(\"Perceptron Decision Region\")\n",
    "plt.xlabel(\"Input 1\")\n",
    "plt.ylabel(\"Input 2\")\n",
    "plt.show()\n"
   ]
  },
  {
   "cell_type": "code",
   "execution_count": null,
   "metadata": {
    "id": "Lzf-fRuqnotb"
   },
   "outputs": [],
   "source": [
    "# The code defines a class named Perceptron, which is a linear binary classifier used for supervised learning.\n",
    "\n",
    "# The Perceptron class has three methods:\n",
    "# __init__: initializes the weights and bias to zero.\n",
    "# predict: computes the activation of the perceptron for an input and returns +1 or -1 based on the sign of the activation.\n",
    "# train: updates the weights and bias based on the training data to minimize the error.\n",
    "# plot_decision_region: plots the decision region of the perceptron on a two-dimensional input space.\n",
    "\n",
    "# The plot_decision_region method takes the input data and the corresponding labels as input arguments and uses them to plot \n",
    "# the decision boundary of the perceptron.\n",
    "\n",
    "# The input data is a 2D numpy array with two columns representing the features, and the labels are a 1D numpy array \n",
    "# with the corresponding class labels (+1 or -1).\n",
    "\n",
    "# The decision boundary is plotted using the contourf function from the matplotlib library, which creates a filled contour \n",
    "# plot of the predicted class labels on a grid of input values.\n",
    "\n",
    "# The scatter function is used to plot the training data points with different colors based on their class labels.\n",
    "\n",
    "# The plt.show() function displays the plot."
   ]
  }
 ],
 "metadata": {
  "colab": {
   "authorship_tag": "ABX9TyPFrpXg0IL2f6H8gy5lCKM6",
   "provenance": []
  },
  "kernelspec": {
   "display_name": "Python 3 (ipykernel)",
   "language": "python",
   "name": "python3"
  },
  "language_info": {
   "codemirror_mode": {
    "name": "ipython",
    "version": 3
   },
   "file_extension": ".py",
   "mimetype": "text/x-python",
   "name": "python",
   "nbconvert_exporter": "python",
   "pygments_lexer": "ipython3",
   "version": "3.8.10"
  }
 },
 "nbformat": 4,
 "nbformat_minor": 1
}
